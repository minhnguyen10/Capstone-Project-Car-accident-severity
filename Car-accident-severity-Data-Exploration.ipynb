{
    "cells": [
        {
            "cell_type": "markdown",
            "metadata": {
                "collapsed": true
            },
            "source": "## This notebook is used for Data Exploration"
        },
        {
            "cell_type": "code",
            "execution_count": 48,
            "metadata": {},
            "outputs": [],
            "source": "import numpy as np\nimport pandas as pd\nimport matplotlib.pyplot as plt\nfrom matplotlib.ticker import NullFormatter\nimport matplotlib.ticker as ticker\nfrom sklearn import preprocessing\nfrom sklearn.preprocessing import LabelEncoder,OneHotEncoder\nfrom scipy import stats\nfrom sklearn.metrics import r2_score\nfrom sklearn.model_selection import train_test_split"
        },
        {
            "cell_type": "code",
            "execution_count": 54,
            "metadata": {},
            "outputs": [
                {
                    "data": {
                        "text/plain": "SEVERITYCODE        int64\nX                 float64\nY                 float64\nOBJECTID            int64\nINCKEY              int64\nCOLDETKEY           int64\nREPORTNO           object\nSTATUS             object\nADDRTYPE           object\nINTKEY            float64\nLOCATION           object\nEXCEPTRSNCODE      object\nEXCEPTRSNDESC      object\nSEVERITYCODE.1      int64\nSEVERITYDESC       object\nCOLLISIONTYPE      object\nPERSONCOUNT         int64\nPEDCOUNT            int64\nPEDCYLCOUNT         int64\nVEHCOUNT            int64\nINCDATE            object\nINCDTTM            object\nJUNCTIONTYPE       object\nSDOT_COLCODE        int64\nSDOT_COLDESC       object\nINATTENTIONIND     object\nUNDERINFL          object\nWEATHER            object\nROADCOND           object\nLIGHTCOND          object\nPEDROWNOTGRNT      object\nSDOTCOLNUM        float64\nSPEEDING           object\nST_COLCODE         object\nST_COLDESC         object\nSEGLANEKEY          int64\nCROSSWALKKEY        int64\nHITPARKEDCAR       object\ndtype: object"
                    },
                    "execution_count": 54,
                    "metadata": {},
                    "output_type": "execute_result"
                }
            ],
            "source": "df = pd.read_csv('https://s3.us.cloud-object-storage.appdomain.cloud/cf-courses-data/CognitiveClass/DP0701EN/version-2/Data-Collisions.csv',header=0)\ndf.dtypes"
        },
        {
            "cell_type": "code",
            "execution_count": 55,
            "metadata": {},
            "outputs": [
                {
                    "data": {
                        "text/html": "<div>\n<style scoped>\n    .dataframe tbody tr th:only-of-type {\n        vertical-align: middle;\n    }\n\n    .dataframe tbody tr th {\n        vertical-align: top;\n    }\n\n    .dataframe thead th {\n        text-align: right;\n    }\n</style>\n<table border=\"1\" class=\"dataframe\">\n  <thead>\n    <tr style=\"text-align: right;\">\n      <th></th>\n      <th>SEVERITYCODE</th>\n    </tr>\n  </thead>\n  <tbody>\n    <tr>\n      <th>1</th>\n      <td>136485</td>\n    </tr>\n    <tr>\n      <th>2</th>\n      <td>58188</td>\n    </tr>\n  </tbody>\n</table>\n</div>",
                        "text/plain": "   SEVERITYCODE\n1        136485\n2         58188"
                    },
                    "execution_count": 55,
                    "metadata": {},
                    "output_type": "execute_result"
                }
            ],
            "source": "#Exploring the severity of the collision included in the data set\ndf['SEVERITYCODE'].value_counts().to_frame()"
        },
        {
            "cell_type": "code",
            "execution_count": 56,
            "metadata": {},
            "outputs": [
                {
                    "data": {
                        "text/html": "<div>\n<style scoped>\n    .dataframe tbody tr th:only-of-type {\n        vertical-align: middle;\n    }\n\n    .dataframe tbody tr th {\n        vertical-align: top;\n    }\n\n    .dataframe thead th {\n        text-align: right;\n    }\n</style>\n<table border=\"1\" class=\"dataframe\">\n  <thead>\n    <tr style=\"text-align: right;\">\n      <th></th>\n      <th>SEVERITYDESC</th>\n    </tr>\n  </thead>\n  <tbody>\n    <tr>\n      <th>Property Damage Only Collision</th>\n      <td>136485</td>\n    </tr>\n    <tr>\n      <th>Injury Collision</th>\n      <td>58188</td>\n    </tr>\n  </tbody>\n</table>\n</div>",
                        "text/plain": "                                SEVERITYDESC\nProperty Damage Only Collision        136485\nInjury Collision                       58188"
                    },
                    "execution_count": 56,
                    "metadata": {},
                    "output_type": "execute_result"
                }
            ],
            "source": "#It seemed liked the dataset only included only two level of severity, let's look at their descpriction\ndf['SEVERITYDESC'].value_counts().to_frame()"
        },
        {
            "cell_type": "code",
            "execution_count": 57,
            "metadata": {},
            "outputs": [
                {
                    "data": {
                        "text/plain": "COLLISIONTYPE     object\nWEATHER           object\nROADCOND          object\nLIGHTCOND         object\nINATTENTIONIND    object\nUNDERINFL         object\nSPEEDING          object\nSEVERITYCODE       int64\ndtype: object"
                    },
                    "execution_count": 57,
                    "metadata": {},
                    "output_type": "execute_result"
                }
            ],
            "source": "#So it looks like the dataset only specifies 2 type of severity which are injury and not-injury\n#In this project, I will chooses several facor such as COLLISIONTYPE, WEATHER, ROADCOND,LIGHTCOND,\n#INATTENTIONIND, UNDERINFL, SPEEDING as the main focus factors\n#Let's build a data set contain those columns\ndf_new = df[['COLLISIONTYPE','WEATHER','ROADCOND',\n             'LIGHTCOND','INATTENTIONIND','UNDERINFL','SPEEDING','SEVERITYCODE']]\ndf_new.dtypes"
        },
        {
            "cell_type": "code",
            "execution_count": 58,
            "metadata": {},
            "outputs": [
                {
                    "data": {
                        "text/html": "<div>\n<style scoped>\n    .dataframe tbody tr th:only-of-type {\n        vertical-align: middle;\n    }\n\n    .dataframe tbody tr th {\n        vertical-align: top;\n    }\n\n    .dataframe thead th {\n        text-align: right;\n    }\n</style>\n<table border=\"1\" class=\"dataframe\">\n  <thead>\n    <tr style=\"text-align: right;\">\n      <th></th>\n      <th>WEATHER</th>\n    </tr>\n  </thead>\n  <tbody>\n    <tr>\n      <th>Clear</th>\n      <td>111135</td>\n    </tr>\n    <tr>\n      <th>Raining</th>\n      <td>33145</td>\n    </tr>\n    <tr>\n      <th>Overcast</th>\n      <td>27714</td>\n    </tr>\n    <tr>\n      <th>Unknown</th>\n      <td>15091</td>\n    </tr>\n    <tr>\n      <th>Snowing</th>\n      <td>907</td>\n    </tr>\n    <tr>\n      <th>Other</th>\n      <td>832</td>\n    </tr>\n    <tr>\n      <th>Fog/Smog/Smoke</th>\n      <td>569</td>\n    </tr>\n    <tr>\n      <th>Sleet/Hail/Freezing Rain</th>\n      <td>113</td>\n    </tr>\n    <tr>\n      <th>Blowing Sand/Dirt</th>\n      <td>56</td>\n    </tr>\n    <tr>\n      <th>Severe Crosswind</th>\n      <td>25</td>\n    </tr>\n    <tr>\n      <th>Partly Cloudy</th>\n      <td>5</td>\n    </tr>\n  </tbody>\n</table>\n</div>",
                        "text/plain": "                          WEATHER\nClear                      111135\nRaining                     33145\nOvercast                    27714\nUnknown                     15091\nSnowing                       907\nOther                         832\nFog/Smog/Smoke                569\nSleet/Hail/Freezing Rain      113\nBlowing Sand/Dirt              56\nSevere Crosswind               25\nPartly Cloudy                   5"
                    },
                    "execution_count": 58,
                    "metadata": {},
                    "output_type": "execute_result"
                }
            ],
            "source": "df_new['WEATHER'].value_counts().to_frame()"
        },
        {
            "cell_type": "code",
            "execution_count": 59,
            "metadata": {},
            "outputs": [
                {
                    "data": {
                        "text/html": "<div>\n<style scoped>\n    .dataframe tbody tr th:only-of-type {\n        vertical-align: middle;\n    }\n\n    .dataframe tbody tr th {\n        vertical-align: top;\n    }\n\n    .dataframe thead th {\n        text-align: right;\n    }\n</style>\n<table border=\"1\" class=\"dataframe\">\n  <thead>\n    <tr style=\"text-align: right;\">\n      <th></th>\n      <th>ROADCOND</th>\n    </tr>\n  </thead>\n  <tbody>\n    <tr>\n      <th>Dry</th>\n      <td>124510</td>\n    </tr>\n    <tr>\n      <th>Wet</th>\n      <td>47474</td>\n    </tr>\n    <tr>\n      <th>Unknown</th>\n      <td>15078</td>\n    </tr>\n    <tr>\n      <th>Ice</th>\n      <td>1209</td>\n    </tr>\n    <tr>\n      <th>Snow/Slush</th>\n      <td>1004</td>\n    </tr>\n    <tr>\n      <th>Other</th>\n      <td>132</td>\n    </tr>\n    <tr>\n      <th>Standing Water</th>\n      <td>115</td>\n    </tr>\n    <tr>\n      <th>Sand/Mud/Dirt</th>\n      <td>75</td>\n    </tr>\n    <tr>\n      <th>Oil</th>\n      <td>64</td>\n    </tr>\n  </tbody>\n</table>\n</div>",
                        "text/plain": "                ROADCOND\nDry               124510\nWet                47474\nUnknown            15078\nIce                 1209\nSnow/Slush          1004\nOther                132\nStanding Water       115\nSand/Mud/Dirt         75\nOil                   64"
                    },
                    "execution_count": 59,
                    "metadata": {},
                    "output_type": "execute_result"
                }
            ],
            "source": "df_new['ROADCOND'].value_counts().to_frame()"
        },
        {
            "cell_type": "code",
            "execution_count": 60,
            "metadata": {},
            "outputs": [
                {
                    "data": {
                        "text/html": "<div>\n<style scoped>\n    .dataframe tbody tr th:only-of-type {\n        vertical-align: middle;\n    }\n\n    .dataframe tbody tr th {\n        vertical-align: top;\n    }\n\n    .dataframe thead th {\n        text-align: right;\n    }\n</style>\n<table border=\"1\" class=\"dataframe\">\n  <thead>\n    <tr style=\"text-align: right;\">\n      <th></th>\n      <th>LIGHTCOND</th>\n    </tr>\n  </thead>\n  <tbody>\n    <tr>\n      <th>Daylight</th>\n      <td>116137</td>\n    </tr>\n    <tr>\n      <th>Dark - Street Lights On</th>\n      <td>48507</td>\n    </tr>\n    <tr>\n      <th>Unknown</th>\n      <td>13473</td>\n    </tr>\n    <tr>\n      <th>Dusk</th>\n      <td>5902</td>\n    </tr>\n    <tr>\n      <th>Dawn</th>\n      <td>2502</td>\n    </tr>\n    <tr>\n      <th>Dark - No Street Lights</th>\n      <td>1537</td>\n    </tr>\n    <tr>\n      <th>Dark - Street Lights Off</th>\n      <td>1199</td>\n    </tr>\n    <tr>\n      <th>Other</th>\n      <td>235</td>\n    </tr>\n    <tr>\n      <th>Dark - Unknown Lighting</th>\n      <td>11</td>\n    </tr>\n  </tbody>\n</table>\n</div>",
                        "text/plain": "                          LIGHTCOND\nDaylight                     116137\nDark - Street Lights On       48507\nUnknown                       13473\nDusk                           5902\nDawn                           2502\nDark - No Street Lights        1537\nDark - Street Lights Off       1199\nOther                           235\nDark - Unknown Lighting          11"
                    },
                    "execution_count": 60,
                    "metadata": {},
                    "output_type": "execute_result"
                }
            ],
            "source": "df_new['LIGHTCOND'].value_counts().to_frame()"
        },
        {
            "cell_type": "code",
            "execution_count": 61,
            "metadata": {},
            "outputs": [
                {
                    "data": {
                        "text/html": "<div>\n<style scoped>\n    .dataframe tbody tr th:only-of-type {\n        vertical-align: middle;\n    }\n\n    .dataframe tbody tr th {\n        vertical-align: top;\n    }\n\n    .dataframe thead th {\n        text-align: right;\n    }\n</style>\n<table border=\"1\" class=\"dataframe\">\n  <thead>\n    <tr style=\"text-align: right;\">\n      <th></th>\n      <th>COLLISIONTYPE</th>\n    </tr>\n  </thead>\n  <tbody>\n    <tr>\n      <th>Parked Car</th>\n      <td>47987</td>\n    </tr>\n    <tr>\n      <th>Angles</th>\n      <td>34674</td>\n    </tr>\n    <tr>\n      <th>Rear Ended</th>\n      <td>34090</td>\n    </tr>\n    <tr>\n      <th>Other</th>\n      <td>23703</td>\n    </tr>\n    <tr>\n      <th>Sideswipe</th>\n      <td>18609</td>\n    </tr>\n    <tr>\n      <th>Left Turn</th>\n      <td>13703</td>\n    </tr>\n    <tr>\n      <th>Pedestrian</th>\n      <td>6608</td>\n    </tr>\n    <tr>\n      <th>Cycles</th>\n      <td>5415</td>\n    </tr>\n    <tr>\n      <th>Right Turn</th>\n      <td>2956</td>\n    </tr>\n    <tr>\n      <th>Head On</th>\n      <td>2024</td>\n    </tr>\n  </tbody>\n</table>\n</div>",
                        "text/plain": "            COLLISIONTYPE\nParked Car          47987\nAngles              34674\nRear Ended          34090\nOther               23703\nSideswipe           18609\nLeft Turn           13703\nPedestrian           6608\nCycles               5415\nRight Turn           2956\nHead On              2024"
                    },
                    "execution_count": 61,
                    "metadata": {},
                    "output_type": "execute_result"
                }
            ],
            "source": "df_new['COLLISIONTYPE'].value_counts().to_frame()"
        },
        {
            "cell_type": "code",
            "execution_count": 62,
            "metadata": {},
            "outputs": [
                {
                    "name": "stdout",
                    "output_type": "stream",
                    "text": "<class 'pandas.core.frame.DataFrame'>\nInt64Index: 695 entries, 1320 to 194309\nData columns (total 8 columns):\nCOLLISIONTYPE     695 non-null object\nWEATHER           695 non-null object\nROADCOND          695 non-null object\nLIGHTCOND         695 non-null object\nINATTENTIONIND    695 non-null object\nUNDERINFL         695 non-null object\nSPEEDING          695 non-null object\nSEVERITYCODE      695 non-null int64\ndtypes: int64(1), object(7)\nmemory usage: 48.9+ KB\n"
                }
            ],
            "source": "#Drop rows with null values\ndf_new = df_new.dropna(axis='rows')\ndf_new.info()"
        },
        {
            "cell_type": "code",
            "execution_count": 63,
            "metadata": {},
            "outputs": [],
            "source": "#label encoded the dataset since all features are catogories types\ncategorical_cols = ['COLLISIONTYPE','WEATHER','ROADCOND',\n             'LIGHTCOND','INATTENTIONIND','UNDERINFL','SPEEDING']\nlabelencoder = LabelEncoder()"
        },
        {
            "cell_type": "code",
            "execution_count": 82,
            "metadata": {},
            "outputs": [],
            "source": "df_new[categorical_cols] = df_new[categorical_cols].apply(lambda col: labelencoder.fit_transform(col))\n# z = np.abs(stats.zscore(df_new))\n# print(z)\n\n# threshold = 10\n# print(np.where(z > 10))\n\n# #Then, we create a new dataset which contains all the elements which is less than 3\n# new_dataset_df_o = df_new[(z < 100).all(axis=1)]"
        },
        {
            "cell_type": "code",
            "execution_count": 83,
            "metadata": {},
            "outputs": [
                {
                    "data": {
                        "text/html": "<div>\n<style scoped>\n    .dataframe tbody tr th:only-of-type {\n        vertical-align: middle;\n    }\n\n    .dataframe tbody tr th {\n        vertical-align: top;\n    }\n\n    .dataframe thead th {\n        text-align: right;\n    }\n</style>\n<table border=\"1\" class=\"dataframe\">\n  <thead>\n    <tr style=\"text-align: right;\">\n      <th></th>\n      <th>COLLISIONTYPE</th>\n      <th>WEATHER</th>\n      <th>ROADCOND</th>\n      <th>LIGHTCOND</th>\n      <th>INATTENTIONIND</th>\n      <th>UNDERINFL</th>\n      <th>SPEEDING</th>\n      <th>SEVERITYCODE</th>\n    </tr>\n  </thead>\n  <tbody>\n    <tr>\n      <th>1320</th>\n      <td>0</td>\n      <td>0</td>\n      <td>0</td>\n      <td>4</td>\n      <td>0</td>\n      <td>2</td>\n      <td>0</td>\n      <td>2</td>\n    </tr>\n    <tr>\n      <th>1572</th>\n      <td>0</td>\n      <td>0</td>\n      <td>0</td>\n      <td>4</td>\n      <td>0</td>\n      <td>2</td>\n      <td>0</td>\n      <td>1</td>\n    </tr>\n    <tr>\n      <th>2918</th>\n      <td>2</td>\n      <td>0</td>\n      <td>0</td>\n      <td>4</td>\n      <td>0</td>\n      <td>2</td>\n      <td>0</td>\n      <td>2</td>\n    </tr>\n    <tr>\n      <th>3045</th>\n      <td>4</td>\n      <td>6</td>\n      <td>2</td>\n      <td>4</td>\n      <td>0</td>\n      <td>2</td>\n      <td>0</td>\n      <td>2</td>\n    </tr>\n    <tr>\n      <th>3499</th>\n      <td>4</td>\n      <td>3</td>\n      <td>0</td>\n      <td>2</td>\n      <td>0</td>\n      <td>0</td>\n      <td>0</td>\n      <td>1</td>\n    </tr>\n    <tr>\n      <th>3517</th>\n      <td>7</td>\n      <td>4</td>\n      <td>5</td>\n      <td>2</td>\n      <td>0</td>\n      <td>2</td>\n      <td>0</td>\n      <td>2</td>\n    </tr>\n    <tr>\n      <th>3974</th>\n      <td>7</td>\n      <td>0</td>\n      <td>0</td>\n      <td>4</td>\n      <td>0</td>\n      <td>0</td>\n      <td>0</td>\n      <td>1</td>\n    </tr>\n    <tr>\n      <th>4472</th>\n      <td>5</td>\n      <td>0</td>\n      <td>0</td>\n      <td>4</td>\n      <td>0</td>\n      <td>0</td>\n      <td>0</td>\n      <td>2</td>\n    </tr>\n    <tr>\n      <th>4902</th>\n      <td>4</td>\n      <td>4</td>\n      <td>5</td>\n      <td>2</td>\n      <td>0</td>\n      <td>1</td>\n      <td>0</td>\n      <td>1</td>\n    </tr>\n    <tr>\n      <th>4969</th>\n      <td>7</td>\n      <td>0</td>\n      <td>0</td>\n      <td>4</td>\n      <td>0</td>\n      <td>0</td>\n      <td>0</td>\n      <td>2</td>\n    </tr>\n  </tbody>\n</table>\n</div>",
                        "text/plain": "      COLLISIONTYPE  WEATHER  ROADCOND  LIGHTCOND  INATTENTIONIND  UNDERINFL  \\\n1320              0        0         0          4               0          2   \n1572              0        0         0          4               0          2   \n2918              2        0         0          4               0          2   \n3045              4        6         2          4               0          2   \n3499              4        3         0          2               0          0   \n3517              7        4         5          2               0          2   \n3974              7        0         0          4               0          0   \n4472              5        0         0          4               0          0   \n4902              4        4         5          2               0          1   \n4969              7        0         0          4               0          0   \n\n      SPEEDING  SEVERITYCODE  \n1320         0             2  \n1572         0             1  \n2918         0             2  \n3045         0             2  \n3499         0             1  \n3517         0             2  \n3974         0             1  \n4472         0             2  \n4902         0             1  \n4969         0             2  "
                    },
                    "execution_count": 83,
                    "metadata": {},
                    "output_type": "execute_result"
                }
            ],
            "source": "df_new.head(10)"
        },
        {
            "cell_type": "code",
            "execution_count": 93,
            "metadata": {},
            "outputs": [],
            "source": "X_dataset = df_new.drop('SEVERITYCODE', axis = 1)\ny_dataset = df_new['SEVERITYCODE']"
        },
        {
            "cell_type": "code",
            "execution_count": 87,
            "metadata": {},
            "outputs": [
                {
                    "data": {
                        "text/html": "<div>\n<style scoped>\n    .dataframe tbody tr th:only-of-type {\n        vertical-align: middle;\n    }\n\n    .dataframe tbody tr th {\n        vertical-align: top;\n    }\n\n    .dataframe thead th {\n        text-align: right;\n    }\n</style>\n<table border=\"1\" class=\"dataframe\">\n  <thead>\n    <tr style=\"text-align: right;\">\n      <th></th>\n      <th>COLLISIONTYPE</th>\n      <th>WEATHER</th>\n      <th>ROADCOND</th>\n      <th>LIGHTCOND</th>\n      <th>INATTENTIONIND</th>\n      <th>UNDERINFL</th>\n      <th>SPEEDING</th>\n    </tr>\n  </thead>\n  <tbody>\n    <tr>\n      <th>1320</th>\n      <td>0</td>\n      <td>0</td>\n      <td>0</td>\n      <td>4</td>\n      <td>0</td>\n      <td>2</td>\n      <td>0</td>\n    </tr>\n    <tr>\n      <th>1572</th>\n      <td>0</td>\n      <td>0</td>\n      <td>0</td>\n      <td>4</td>\n      <td>0</td>\n      <td>2</td>\n      <td>0</td>\n    </tr>\n    <tr>\n      <th>2918</th>\n      <td>2</td>\n      <td>0</td>\n      <td>0</td>\n      <td>4</td>\n      <td>0</td>\n      <td>2</td>\n      <td>0</td>\n    </tr>\n    <tr>\n      <th>3045</th>\n      <td>4</td>\n      <td>6</td>\n      <td>2</td>\n      <td>4</td>\n      <td>0</td>\n      <td>2</td>\n      <td>0</td>\n    </tr>\n    <tr>\n      <th>3499</th>\n      <td>4</td>\n      <td>3</td>\n      <td>0</td>\n      <td>2</td>\n      <td>0</td>\n      <td>0</td>\n      <td>0</td>\n    </tr>\n  </tbody>\n</table>\n</div>",
                        "text/plain": "      COLLISIONTYPE  WEATHER  ROADCOND  LIGHTCOND  INATTENTIONIND  UNDERINFL  \\\n1320              0        0         0          4               0          2   \n1572              0        0         0          4               0          2   \n2918              2        0         0          4               0          2   \n3045              4        6         2          4               0          2   \n3499              4        3         0          2               0          0   \n\n      SPEEDING  \n1320         0  \n1572         0  \n2918         0  \n3045         0  \n3499         0  "
                    },
                    "execution_count": 87,
                    "metadata": {},
                    "output_type": "execute_result"
                }
            ],
            "source": "X_dataset.head(5)"
        },
        {
            "cell_type": "code",
            "execution_count": 94,
            "metadata": {},
            "outputs": [],
            "source": "X_df = pd.get_dummies(X_dataset, dummy_na = False, columns=categorical_cols )\n\nX_train, X_test, y_train, y_test = train_test_split(X_df, y_dataset, test_size=0.3, random_state = 0)\n\ndef performance_metric(y_true, y_predict):\n    \"\"\" Calculates and returns the performance score between \n        true (y_true) and predicted (y_predict) values based on the metric chosen. \"\"\"\n    \n    score = r2_score(y_true, y_predict)\n    \n    # Return the score\n    return score"
        },
        {
            "cell_type": "code",
            "execution_count": 98,
            "metadata": {},
            "outputs": [
                {
                    "data": {
                        "text/html": "<div>\n<style scoped>\n    .dataframe tbody tr th:only-of-type {\n        vertical-align: middle;\n    }\n\n    .dataframe tbody tr th {\n        vertical-align: top;\n    }\n\n    .dataframe thead th {\n        text-align: right;\n    }\n</style>\n<table border=\"1\" class=\"dataframe\">\n  <thead>\n    <tr style=\"text-align: right;\">\n      <th></th>\n      <th>COLLISIONTYPE_0</th>\n      <th>COLLISIONTYPE_1</th>\n      <th>COLLISIONTYPE_2</th>\n      <th>COLLISIONTYPE_3</th>\n      <th>COLLISIONTYPE_4</th>\n      <th>COLLISIONTYPE_5</th>\n      <th>COLLISIONTYPE_6</th>\n      <th>COLLISIONTYPE_7</th>\n      <th>COLLISIONTYPE_8</th>\n      <th>COLLISIONTYPE_9</th>\n      <th>...</th>\n      <th>LIGHTCOND_4</th>\n      <th>LIGHTCOND_5</th>\n      <th>LIGHTCOND_6</th>\n      <th>LIGHTCOND_7</th>\n      <th>INATTENTIONIND_0</th>\n      <th>UNDERINFL_0</th>\n      <th>UNDERINFL_1</th>\n      <th>UNDERINFL_2</th>\n      <th>UNDERINFL_3</th>\n      <th>SPEEDING_0</th>\n    </tr>\n  </thead>\n  <tbody>\n    <tr>\n      <th>50751</th>\n      <td>0</td>\n      <td>1</td>\n      <td>0</td>\n      <td>0</td>\n      <td>0</td>\n      <td>0</td>\n      <td>0</td>\n      <td>0</td>\n      <td>0</td>\n      <td>0</td>\n      <td>...</td>\n      <td>0</td>\n      <td>0</td>\n      <td>0</td>\n      <td>0</td>\n      <td>1</td>\n      <td>1</td>\n      <td>0</td>\n      <td>0</td>\n      <td>0</td>\n      <td>1</td>\n    </tr>\n    <tr>\n      <th>193524</th>\n      <td>0</td>\n      <td>0</td>\n      <td>0</td>\n      <td>0</td>\n      <td>0</td>\n      <td>0</td>\n      <td>0</td>\n      <td>1</td>\n      <td>0</td>\n      <td>0</td>\n      <td>...</td>\n      <td>1</td>\n      <td>0</td>\n      <td>0</td>\n      <td>0</td>\n      <td>1</td>\n      <td>0</td>\n      <td>0</td>\n      <td>1</td>\n      <td>0</td>\n      <td>1</td>\n    </tr>\n    <tr>\n      <th>80676</th>\n      <td>0</td>\n      <td>0</td>\n      <td>0</td>\n      <td>0</td>\n      <td>0</td>\n      <td>0</td>\n      <td>0</td>\n      <td>0</td>\n      <td>0</td>\n      <td>1</td>\n      <td>...</td>\n      <td>1</td>\n      <td>0</td>\n      <td>0</td>\n      <td>0</td>\n      <td>1</td>\n      <td>1</td>\n      <td>0</td>\n      <td>0</td>\n      <td>0</td>\n      <td>1</td>\n    </tr>\n    <tr>\n      <th>132254</th>\n      <td>0</td>\n      <td>1</td>\n      <td>0</td>\n      <td>0</td>\n      <td>0</td>\n      <td>0</td>\n      <td>0</td>\n      <td>0</td>\n      <td>0</td>\n      <td>0</td>\n      <td>...</td>\n      <td>1</td>\n      <td>0</td>\n      <td>0</td>\n      <td>0</td>\n      <td>1</td>\n      <td>0</td>\n      <td>0</td>\n      <td>1</td>\n      <td>0</td>\n      <td>1</td>\n    </tr>\n    <tr>\n      <th>138226</th>\n      <td>0</td>\n      <td>0</td>\n      <td>0</td>\n      <td>0</td>\n      <td>0</td>\n      <td>0</td>\n      <td>0</td>\n      <td>1</td>\n      <td>0</td>\n      <td>0</td>\n      <td>...</td>\n      <td>0</td>\n      <td>1</td>\n      <td>0</td>\n      <td>0</td>\n      <td>1</td>\n      <td>0</td>\n      <td>0</td>\n      <td>1</td>\n      <td>0</td>\n      <td>1</td>\n    </tr>\n  </tbody>\n</table>\n<p>5 rows \u00d7 38 columns</p>\n</div>",
                        "text/plain": "        COLLISIONTYPE_0  COLLISIONTYPE_1  COLLISIONTYPE_2  COLLISIONTYPE_3  \\\n50751                 0                1                0                0   \n193524                0                0                0                0   \n80676                 0                0                0                0   \n132254                0                1                0                0   \n138226                0                0                0                0   \n\n        COLLISIONTYPE_4  COLLISIONTYPE_5  COLLISIONTYPE_6  COLLISIONTYPE_7  \\\n50751                 0                0                0                0   \n193524                0                0                0                1   \n80676                 0                0                0                0   \n132254                0                0                0                0   \n138226                0                0                0                1   \n\n        COLLISIONTYPE_8  COLLISIONTYPE_9  ...  LIGHTCOND_4  LIGHTCOND_5  \\\n50751                 0                0  ...            0            0   \n193524                0                0  ...            1            0   \n80676                 0                1  ...            1            0   \n132254                0                0  ...            1            0   \n138226                0                0  ...            0            1   \n\n        LIGHTCOND_6  LIGHTCOND_7  INATTENTIONIND_0  UNDERINFL_0  UNDERINFL_1  \\\n50751             0            0                 1            1            0   \n193524            0            0                 1            0            0   \n80676             0            0                 1            1            0   \n132254            0            0                 1            0            0   \n138226            0            0                 1            0            0   \n\n        UNDERINFL_2  UNDERINFL_3  SPEEDING_0  \n50751             0            0           1  \n193524            1            0           1  \n80676             0            0           1  \n132254            1            0           1  \n138226            1            0           1  \n\n[5 rows x 38 columns]"
                    },
                    "execution_count": 98,
                    "metadata": {},
                    "output_type": "execute_result"
                }
            ],
            "source": "X_train.head()"
        },
        {
            "cell_type": "code",
            "execution_count": 103,
            "metadata": {},
            "outputs": [
                {
                    "name": "stdout",
                    "output_type": "stream",
                    "text": "Error Training Set of Linear Regression Model 0.12415222274849247\nError Test Set of Linear Regression Model 0.04089843716426422\n"
                }
            ],
            "source": "#Lineaer Regression\nfrom sklearn.linear_model import LinearRegression\nregressor = LinearRegression()\nregressor.fit(X_train, y_train)\n\ny_pred_train_linear = regressor.predict(X_train)\n# Predicting the Test set results\ny_pred_test_linear = regressor.predict(X_test)\n\n# # Visualising the Training set results\n# plt.scatter(X_train['WEATHER'], y_train, color = 'red')\n# plt.scatter(X_train['WEATHER'], regressor.predict(X_train), color = 'blue')\n# plt.title('WEATHER vs SEVERITY (Training set)')\n# plt.xlabel('WEATHER')\n# plt.ylabel('SEVERITY')\n# plt.show()\n\n# # Visualising the Test set results\n# plt.scatter(X_test['WEATHER'], y_test, color = 'red')\n# plt.scatter(X_test['WEATHER'], regressor.predict(X_test), color = 'blue')\n# plt.title('WEATHER vs SEVERITY (Test set)')\n# plt.xlabel('WEATHER')\n# plt.ylabel('SEVERITY')\n# plt.show()\nprint(\"Error Training Set of Linear Regression Model\", performance_metric(y_train,y_pred_train_linear))\nprint(\"Error Test Set of Linear Regression Model\", performance_metric(y_test,y_pred_test_linear))"
        },
        {
            "cell_type": "code",
            "execution_count": 101,
            "metadata": {},
            "outputs": [
                {
                    "data": {
                        "image/png": "[encoded data removed]",
                        "text/plain": "<Figure size 432x288 with 1 Axes>"
                    },
                    "metadata": {
                        "needs_background": "light"
                    },
                    "output_type": "display_data"
                }
            ],
            "source": "# Visualising the Training set results\nplt.scatter(X_train['COLLISIONTYPE_8'], y_train, color = 'red')\nplt.scatter(X_train['COLLISIONTYPE_8'], regressor.predict(X_train), color = 'blue')\nplt.title('WEATHER vs SEVERITY (Training set)')\nplt.xlabel('WEATHER')\nplt.ylabel('SEVERITY')\nplt.show()\n\n"
        },
        {
            "cell_type": "code",
            "execution_count": 102,
            "metadata": {},
            "outputs": [
                {
                    "name": "stdout",
                    "output_type": "stream",
                    "text": "Error Training Set of Decision Tree Model 0.36744974281120857\nError Test Set of Decision Tree Model -0.21588375728944498\n"
                }
            ],
            "source": "# Decision Tree\n# Fitting Decision Tree Regression to the dataset\nfrom sklearn.tree import DecisionTreeRegressor\nregressor_d_tree = DecisionTreeRegressor()\nregressor_d_tree.fit(X_train, y_train)\n\ny_pred_train_d_tree = regressor_d_tree.predict(X_train)\n# Predicting the Test set results\ny_pred_test_d_tree = regressor_d_tree.predict(X_test)\n\n# # Visualising the Training set results\n# plt.scatter(X_train['Engine HP'], y_train, color = 'red')\n# plt.scatter(X_train['Engine HP'], regressor_d_tree.predict(X_train), color = 'blue')\n# plt.title('Engine HP vs MSRP DT (Training set)')\n# plt.xlabel('Engine HP')\n# plt.ylabel('MSRP')\n# plt.show()\n# # Visualising the Test set results\n# plt.scatter(X_test['Engine HP'], y_test, color = 'red')\n# plt.scatter(X_test['Engine HP'], regressor_d_tree.predict(X_test), color = 'blue')\n# plt.title('Engine HP vs MSRP DT (Test set)')\n# plt.xlabel('Engine HP')\n# plt.ylabel('MSRP')\n# plt.show()\nprint(\"Error Training Set of Decision Tree Model\", performance_metric(y_train,y_pred_train_d_tree))\nprint(\"Error Test Set of Decision Tree Model\", performance_metric(y_test,y_pred_test_d_tree))"
        },
        {
            "cell_type": "code",
            "execution_count": null,
            "metadata": {},
            "outputs": [],
            "source": ""
        }
    ],
    "metadata": {
        "kernelspec": {
            "display_name": "Python 3.6",
            "language": "python",
            "name": "python3"
        },
        "language_info": {
            "codemirror_mode": {
                "name": "ipython",
                "version": 3
            },
            "file_extension": ".py",
            "mimetype": "text/x-python",
            "name": "python",
            "nbconvert_exporter": "python",
            "pygments_lexer": "ipython3",
            "version": "3.6.9"
        }
    },
    "nbformat": 4,
    "nbformat_minor": 1
}